{
 "cells": [
  {
   "cell_type": "code",
   "execution_count": 31,
   "metadata": {},
   "outputs": [],
   "source": [
    "import glob\n",
    "import os\n",
    "import pandas as pd\n",
    "from datetime import datetime\n"
   ]
  },
  {
   "attachments": {},
   "cell_type": "markdown",
   "metadata": {},
   "source": [
    "# Read Maxim location for all the months"
   ]
  },
  {
   "cell_type": "code",
   "execution_count": 32,
   "metadata": {},
   "outputs": [],
   "source": [
    "custom_date_parser = lambda x: datetime.strptime(x, '%d/%m/%Y %H:%M:%S.%f')\n",
    "path = '/Users/siucheung/School/Modern Data Analytics/project/Full Data Set/'\n",
    "\n",
    "csv_files = glob.glob(path + \"/*/*naamsestraat-35-maxim.csv\") \n",
    "df_list = (pd.read_csv(file, sep=';',\n",
    "                       usecols=['result_timestamp','lamax','laeq','lceq','lcpeak'],\n",
    "                       dtype={'lamax':'float16','laeq':'float16','lceq':'float16','lcpeak':'float16'},\n",
    "                       parse_dates=['result_timestamp'],\n",
    "                       date_parser=custom_date_parser) \n",
    "                       for file in csv_files)\n",
    "\n",
    "full_maxim_df = pd.concat(df_list, ignore_index=True)\n",
    "full_maxim_df.shape\n",
    "\n",
    "del df_list"
   ]
  },
  {
   "cell_type": "code",
   "execution_count": 33,
   "metadata": {},
   "outputs": [],
   "source": [
    "full_maxim_df.sort_values(by=['result_timestamp'],inplace=True)"
   ]
  },
  {
   "cell_type": "code",
   "execution_count": 34,
   "metadata": {},
   "outputs": [],
   "source": [
    "#full_maxim_df['result_timestamp'].dt.month.unique()"
   ]
  },
  {
   "cell_type": "code",
   "execution_count": 35,
   "metadata": {},
   "outputs": [],
   "source": [
    "full_maxim_df = full_maxim_df.resample('15min',closed = 'right', on='result_timestamp').mean()\n",
    "full_maxim_df.reset_index(inplace=True)"
   ]
  },
  {
   "cell_type": "code",
   "execution_count": 77,
   "metadata": {},
   "outputs": [],
   "source": [
    "full_maxim_df.to_parquet('Dataset/full_maxim_df.parquet')"
   ]
  },
  {
   "cell_type": "code",
   "execution_count": 78,
   "metadata": {},
   "outputs": [
    {
     "data": {
      "text/html": [
       "<div>\n",
       "<style scoped>\n",
       "    .dataframe tbody tr th:only-of-type {\n",
       "        vertical-align: middle;\n",
       "    }\n",
       "\n",
       "    .dataframe tbody tr th {\n",
       "        vertical-align: top;\n",
       "    }\n",
       "\n",
       "    .dataframe thead th {\n",
       "        text-align: right;\n",
       "    }\n",
       "</style>\n",
       "<table border=\"1\" class=\"dataframe\">\n",
       "  <thead>\n",
       "    <tr style=\"text-align: right;\">\n",
       "      <th></th>\n",
       "      <th>result_timestamp</th>\n",
       "      <th>lamax</th>\n",
       "      <th>laeq</th>\n",
       "      <th>lceq</th>\n",
       "      <th>lcpeak</th>\n",
       "    </tr>\n",
       "  </thead>\n",
       "  <tbody>\n",
       "    <tr>\n",
       "      <th>0</th>\n",
       "      <td>2022-02-28 08:15:00</td>\n",
       "      <td>61.2500</td>\n",
       "      <td>59.90625</td>\n",
       "      <td>70.75000</td>\n",
       "      <td>82.0625</td>\n",
       "    </tr>\n",
       "    <tr>\n",
       "      <th>1</th>\n",
       "      <td>2022-02-28 08:30:00</td>\n",
       "      <td>57.4375</td>\n",
       "      <td>55.59375</td>\n",
       "      <td>65.81250</td>\n",
       "      <td>77.5625</td>\n",
       "    </tr>\n",
       "    <tr>\n",
       "      <th>2</th>\n",
       "      <td>2022-02-28 08:45:00</td>\n",
       "      <td>65.1250</td>\n",
       "      <td>63.37500</td>\n",
       "      <td>70.56250</td>\n",
       "      <td>82.3750</td>\n",
       "    </tr>\n",
       "    <tr>\n",
       "      <th>3</th>\n",
       "      <td>2022-02-28 09:00:00</td>\n",
       "      <td>NaN</td>\n",
       "      <td>NaN</td>\n",
       "      <td>NaN</td>\n",
       "      <td>NaN</td>\n",
       "    </tr>\n",
       "    <tr>\n",
       "      <th>4</th>\n",
       "      <td>2022-02-28 09:15:00</td>\n",
       "      <td>NaN</td>\n",
       "      <td>NaN</td>\n",
       "      <td>NaN</td>\n",
       "      <td>NaN</td>\n",
       "    </tr>\n",
       "    <tr>\n",
       "      <th>...</th>\n",
       "      <td>...</td>\n",
       "      <td>...</td>\n",
       "      <td>...</td>\n",
       "      <td>...</td>\n",
       "      <td>...</td>\n",
       "    </tr>\n",
       "    <tr>\n",
       "      <th>28537</th>\n",
       "      <td>2022-12-22 14:30:00</td>\n",
       "      <td>56.1875</td>\n",
       "      <td>54.46875</td>\n",
       "      <td>63.37500</td>\n",
       "      <td>75.6875</td>\n",
       "    </tr>\n",
       "    <tr>\n",
       "      <th>28538</th>\n",
       "      <td>2022-12-22 14:45:00</td>\n",
       "      <td>56.0000</td>\n",
       "      <td>53.90625</td>\n",
       "      <td>61.87500</td>\n",
       "      <td>74.5625</td>\n",
       "    </tr>\n",
       "    <tr>\n",
       "      <th>28539</th>\n",
       "      <td>2022-12-22 15:00:00</td>\n",
       "      <td>55.8125</td>\n",
       "      <td>53.90625</td>\n",
       "      <td>61.84375</td>\n",
       "      <td>74.6250</td>\n",
       "    </tr>\n",
       "    <tr>\n",
       "      <th>28540</th>\n",
       "      <td>2022-12-22 15:15:00</td>\n",
       "      <td>55.9375</td>\n",
       "      <td>53.84375</td>\n",
       "      <td>60.62500</td>\n",
       "      <td>74.0625</td>\n",
       "    </tr>\n",
       "    <tr>\n",
       "      <th>28541</th>\n",
       "      <td>2022-12-22 15:30:00</td>\n",
       "      <td>55.8125</td>\n",
       "      <td>53.84375</td>\n",
       "      <td>61.59375</td>\n",
       "      <td>74.4375</td>\n",
       "    </tr>\n",
       "  </tbody>\n",
       "</table>\n",
       "<p>28542 rows × 5 columns</p>\n",
       "</div>"
      ],
      "text/plain": [
       "         result_timestamp    lamax      laeq      lceq   lcpeak\n",
       "0     2022-02-28 08:15:00  61.2500  59.90625  70.75000  82.0625\n",
       "1     2022-02-28 08:30:00  57.4375  55.59375  65.81250  77.5625\n",
       "2     2022-02-28 08:45:00  65.1250  63.37500  70.56250  82.3750\n",
       "3     2022-02-28 09:00:00      NaN       NaN       NaN      NaN\n",
       "4     2022-02-28 09:15:00      NaN       NaN       NaN      NaN\n",
       "...                   ...      ...       ...       ...      ...\n",
       "28537 2022-12-22 14:30:00  56.1875  54.46875  63.37500  75.6875\n",
       "28538 2022-12-22 14:45:00  56.0000  53.90625  61.87500  74.5625\n",
       "28539 2022-12-22 15:00:00  55.8125  53.90625  61.84375  74.6250\n",
       "28540 2022-12-22 15:15:00  55.9375  53.84375  60.62500  74.0625\n",
       "28541 2022-12-22 15:30:00  55.8125  53.84375  61.59375  74.4375\n",
       "\n",
       "[28542 rows x 5 columns]"
      ]
     },
     "execution_count": 78,
     "metadata": {},
     "output_type": "execute_result"
    }
   ],
   "source": [
    "test_maxim_df = pd.read_parquet('Dataset/full_maxim_df.parquet')\n",
    "test_maxim_df"
   ]
  },
  {
   "cell_type": "code",
   "execution_count": 38,
   "metadata": {},
   "outputs": [],
   "source": [
    "#train_maxim['result_timestamp'].dt.month.unique()"
   ]
  },
  {
   "cell_type": "code",
   "execution_count": 40,
   "metadata": {},
   "outputs": [
    {
     "data": {
      "text/plain": [
       "array([ 2,  3,  4,  5,  6,  7,  8,  9, 10, 11, 12])"
      ]
     },
     "execution_count": 40,
     "metadata": {},
     "output_type": "execute_result"
    }
   ],
   "source": [
    "test_maxim_df['result_timestamp'].dt.month.unique()"
   ]
  },
  {
   "cell_type": "code",
   "execution_count": 41,
   "metadata": {},
   "outputs": [],
   "source": [
    "missing_df = test_maxim_df[test_maxim_df.isnull().any(axis=1)]"
   ]
  },
  {
   "cell_type": "code",
   "execution_count": 44,
   "metadata": {},
   "outputs": [
    {
     "data": {
      "text/html": [
       "<div>\n",
       "<style scoped>\n",
       "    .dataframe tbody tr th:only-of-type {\n",
       "        vertical-align: middle;\n",
       "    }\n",
       "\n",
       "    .dataframe tbody tr th {\n",
       "        vertical-align: top;\n",
       "    }\n",
       "\n",
       "    .dataframe thead th {\n",
       "        text-align: right;\n",
       "    }\n",
       "</style>\n",
       "<table border=\"1\" class=\"dataframe\">\n",
       "  <thead>\n",
       "    <tr style=\"text-align: right;\">\n",
       "      <th></th>\n",
       "      <th>result_timestamp</th>\n",
       "      <th>lamax</th>\n",
       "      <th>laeq</th>\n",
       "      <th>lceq</th>\n",
       "      <th>lcpeak</th>\n",
       "    </tr>\n",
       "  </thead>\n",
       "  <tbody>\n",
       "    <tr>\n",
       "      <th>3</th>\n",
       "      <td>2022-02-28 09:00:00</td>\n",
       "      <td>NaN</td>\n",
       "      <td>NaN</td>\n",
       "      <td>NaN</td>\n",
       "      <td>NaN</td>\n",
       "    </tr>\n",
       "    <tr>\n",
       "      <th>4</th>\n",
       "      <td>2022-02-28 09:15:00</td>\n",
       "      <td>NaN</td>\n",
       "      <td>NaN</td>\n",
       "      <td>NaN</td>\n",
       "      <td>NaN</td>\n",
       "    </tr>\n",
       "    <tr>\n",
       "      <th>5</th>\n",
       "      <td>2022-02-28 09:30:00</td>\n",
       "      <td>NaN</td>\n",
       "      <td>NaN</td>\n",
       "      <td>NaN</td>\n",
       "      <td>NaN</td>\n",
       "    </tr>\n",
       "    <tr>\n",
       "      <th>6</th>\n",
       "      <td>2022-02-28 09:45:00</td>\n",
       "      <td>NaN</td>\n",
       "      <td>NaN</td>\n",
       "      <td>NaN</td>\n",
       "      <td>NaN</td>\n",
       "    </tr>\n",
       "    <tr>\n",
       "      <th>7</th>\n",
       "      <td>2022-02-28 10:00:00</td>\n",
       "      <td>NaN</td>\n",
       "      <td>NaN</td>\n",
       "      <td>NaN</td>\n",
       "      <td>NaN</td>\n",
       "    </tr>\n",
       "    <tr>\n",
       "      <th>...</th>\n",
       "      <td>...</td>\n",
       "      <td>...</td>\n",
       "      <td>...</td>\n",
       "      <td>...</td>\n",
       "      <td>...</td>\n",
       "    </tr>\n",
       "    <tr>\n",
       "      <th>28158</th>\n",
       "      <td>2022-12-18 15:45:00</td>\n",
       "      <td>NaN</td>\n",
       "      <td>NaN</td>\n",
       "      <td>NaN</td>\n",
       "      <td>NaN</td>\n",
       "    </tr>\n",
       "    <tr>\n",
       "      <th>28255</th>\n",
       "      <td>2022-12-19 16:00:00</td>\n",
       "      <td>NaN</td>\n",
       "      <td>NaN</td>\n",
       "      <td>NaN</td>\n",
       "      <td>NaN</td>\n",
       "    </tr>\n",
       "    <tr>\n",
       "      <th>28349</th>\n",
       "      <td>2022-12-20 15:30:00</td>\n",
       "      <td>NaN</td>\n",
       "      <td>NaN</td>\n",
       "      <td>NaN</td>\n",
       "      <td>NaN</td>\n",
       "    </tr>\n",
       "    <tr>\n",
       "      <th>28350</th>\n",
       "      <td>2022-12-20 15:45:00</td>\n",
       "      <td>NaN</td>\n",
       "      <td>NaN</td>\n",
       "      <td>NaN</td>\n",
       "      <td>NaN</td>\n",
       "    </tr>\n",
       "    <tr>\n",
       "      <th>28446</th>\n",
       "      <td>2022-12-21 15:45:00</td>\n",
       "      <td>NaN</td>\n",
       "      <td>NaN</td>\n",
       "      <td>NaN</td>\n",
       "      <td>NaN</td>\n",
       "    </tr>\n",
       "  </tbody>\n",
       "</table>\n",
       "<p>9424 rows × 5 columns</p>\n",
       "</div>"
      ],
      "text/plain": [
       "         result_timestamp  lamax  laeq  lceq  lcpeak\n",
       "3     2022-02-28 09:00:00    NaN   NaN   NaN     NaN\n",
       "4     2022-02-28 09:15:00    NaN   NaN   NaN     NaN\n",
       "5     2022-02-28 09:30:00    NaN   NaN   NaN     NaN\n",
       "6     2022-02-28 09:45:00    NaN   NaN   NaN     NaN\n",
       "7     2022-02-28 10:00:00    NaN   NaN   NaN     NaN\n",
       "...                   ...    ...   ...   ...     ...\n",
       "28158 2022-12-18 15:45:00    NaN   NaN   NaN     NaN\n",
       "28255 2022-12-19 16:00:00    NaN   NaN   NaN     NaN\n",
       "28349 2022-12-20 15:30:00    NaN   NaN   NaN     NaN\n",
       "28350 2022-12-20 15:45:00    NaN   NaN   NaN     NaN\n",
       "28446 2022-12-21 15:45:00    NaN   NaN   NaN     NaN\n",
       "\n",
       "[9424 rows x 5 columns]"
      ]
     },
     "execution_count": 44,
     "metadata": {},
     "output_type": "execute_result"
    }
   ],
   "source": [
    "missing_df"
   ]
  },
  {
   "cell_type": "code",
   "execution_count": 45,
   "metadata": {},
   "outputs": [
    {
     "data": {
      "text/plain": [
       "array([ 2,  3,  6,  7, 10, 11, 12])"
      ]
     },
     "execution_count": 45,
     "metadata": {},
     "output_type": "execute_result"
    }
   ],
   "source": [
    "missing_df['result_timestamp'].dt.month.unique()"
   ]
  },
  {
   "cell_type": "code",
   "execution_count": 47,
   "metadata": {},
   "outputs": [],
   "source": [
    "oct_df = test_maxim_df[test_maxim_df['result_timestamp'].dt.month == 10]"
   ]
  },
  {
   "cell_type": "code",
   "execution_count": 49,
   "metadata": {},
   "outputs": [],
   "source": [
    "missing_oct_df = oct_df[oct_df.isnull().any(axis=1)]"
   ]
  },
  {
   "cell_type": "code",
   "execution_count": 50,
   "metadata": {},
   "outputs": [
    {
     "data": {
      "text/html": [
       "<div>\n",
       "<style scoped>\n",
       "    .dataframe tbody tr th:only-of-type {\n",
       "        vertical-align: middle;\n",
       "    }\n",
       "\n",
       "    .dataframe tbody tr th {\n",
       "        vertical-align: top;\n",
       "    }\n",
       "\n",
       "    .dataframe thead th {\n",
       "        text-align: right;\n",
       "    }\n",
       "</style>\n",
       "<table border=\"1\" class=\"dataframe\">\n",
       "  <thead>\n",
       "    <tr style=\"text-align: right;\">\n",
       "      <th></th>\n",
       "      <th>result_timestamp</th>\n",
       "      <th>lamax</th>\n",
       "      <th>laeq</th>\n",
       "      <th>lceq</th>\n",
       "      <th>lcpeak</th>\n",
       "    </tr>\n",
       "  </thead>\n",
       "  <tbody>\n",
       "    <tr>\n",
       "      <th>22961</th>\n",
       "      <td>2022-10-25 12:30:00</td>\n",
       "      <td>NaN</td>\n",
       "      <td>NaN</td>\n",
       "      <td>NaN</td>\n",
       "      <td>NaN</td>\n",
       "    </tr>\n",
       "    <tr>\n",
       "      <th>22962</th>\n",
       "      <td>2022-10-25 12:45:00</td>\n",
       "      <td>NaN</td>\n",
       "      <td>NaN</td>\n",
       "      <td>NaN</td>\n",
       "      <td>NaN</td>\n",
       "    </tr>\n",
       "    <tr>\n",
       "      <th>22963</th>\n",
       "      <td>2022-10-25 13:00:00</td>\n",
       "      <td>NaN</td>\n",
       "      <td>NaN</td>\n",
       "      <td>NaN</td>\n",
       "      <td>NaN</td>\n",
       "    </tr>\n",
       "    <tr>\n",
       "      <th>22964</th>\n",
       "      <td>2022-10-25 13:15:00</td>\n",
       "      <td>NaN</td>\n",
       "      <td>NaN</td>\n",
       "      <td>NaN</td>\n",
       "      <td>NaN</td>\n",
       "    </tr>\n",
       "    <tr>\n",
       "      <th>22965</th>\n",
       "      <td>2022-10-25 13:30:00</td>\n",
       "      <td>NaN</td>\n",
       "      <td>NaN</td>\n",
       "      <td>NaN</td>\n",
       "      <td>NaN</td>\n",
       "    </tr>\n",
       "    <tr>\n",
       "      <th>...</th>\n",
       "      <td>...</td>\n",
       "      <td>...</td>\n",
       "      <td>...</td>\n",
       "      <td>...</td>\n",
       "      <td>...</td>\n",
       "    </tr>\n",
       "    <tr>\n",
       "      <th>23578</th>\n",
       "      <td>2022-10-31 22:45:00</td>\n",
       "      <td>NaN</td>\n",
       "      <td>NaN</td>\n",
       "      <td>NaN</td>\n",
       "      <td>NaN</td>\n",
       "    </tr>\n",
       "    <tr>\n",
       "      <th>23579</th>\n",
       "      <td>2022-10-31 23:00:00</td>\n",
       "      <td>NaN</td>\n",
       "      <td>NaN</td>\n",
       "      <td>NaN</td>\n",
       "      <td>NaN</td>\n",
       "    </tr>\n",
       "    <tr>\n",
       "      <th>23580</th>\n",
       "      <td>2022-10-31 23:15:00</td>\n",
       "      <td>NaN</td>\n",
       "      <td>NaN</td>\n",
       "      <td>NaN</td>\n",
       "      <td>NaN</td>\n",
       "    </tr>\n",
       "    <tr>\n",
       "      <th>23581</th>\n",
       "      <td>2022-10-31 23:30:00</td>\n",
       "      <td>NaN</td>\n",
       "      <td>NaN</td>\n",
       "      <td>NaN</td>\n",
       "      <td>NaN</td>\n",
       "    </tr>\n",
       "    <tr>\n",
       "      <th>23582</th>\n",
       "      <td>2022-10-31 23:45:00</td>\n",
       "      <td>NaN</td>\n",
       "      <td>NaN</td>\n",
       "      <td>NaN</td>\n",
       "      <td>NaN</td>\n",
       "    </tr>\n",
       "  </tbody>\n",
       "</table>\n",
       "<p>622 rows × 5 columns</p>\n",
       "</div>"
      ],
      "text/plain": [
       "         result_timestamp  lamax  laeq  lceq  lcpeak\n",
       "22961 2022-10-25 12:30:00    NaN   NaN   NaN     NaN\n",
       "22962 2022-10-25 12:45:00    NaN   NaN   NaN     NaN\n",
       "22963 2022-10-25 13:00:00    NaN   NaN   NaN     NaN\n",
       "22964 2022-10-25 13:15:00    NaN   NaN   NaN     NaN\n",
       "22965 2022-10-25 13:30:00    NaN   NaN   NaN     NaN\n",
       "...                   ...    ...   ...   ...     ...\n",
       "23578 2022-10-31 22:45:00    NaN   NaN   NaN     NaN\n",
       "23579 2022-10-31 23:00:00    NaN   NaN   NaN     NaN\n",
       "23580 2022-10-31 23:15:00    NaN   NaN   NaN     NaN\n",
       "23581 2022-10-31 23:30:00    NaN   NaN   NaN     NaN\n",
       "23582 2022-10-31 23:45:00    NaN   NaN   NaN     NaN\n",
       "\n",
       "[622 rows x 5 columns]"
      ]
     },
     "execution_count": 50,
     "metadata": {},
     "output_type": "execute_result"
    }
   ],
   "source": [
    "missing_oct_df"
   ]
  },
  {
   "attachments": {},
   "cell_type": "markdown",
   "metadata": {},
   "source": [
    "# read Xior location"
   ]
  },
  {
   "cell_type": "code",
   "execution_count": 51,
   "metadata": {},
   "outputs": [
    {
     "data": {
      "text/plain": [
       "(16995383, 5)"
      ]
     },
     "execution_count": 51,
     "metadata": {},
     "output_type": "execute_result"
    }
   ],
   "source": [
    "custom_date_parser = lambda x: datetime.strptime(x, '%d/%m/%Y %H:%M:%S.%f')\n",
    "path = '/Users/siucheung/School/Modern Data Analytics/project/Full Data Set/'\n",
    "\n",
    "csv_files = glob.glob(path + \"/*/*xior.csv\") \n",
    "df_list = (pd.read_csv(file, sep=';',\n",
    "                       usecols=['result_timestamp','lamax','laeq','lceq','lcpeak'],\n",
    "                       dtype={'lamax':'float16','laeq':'float16','lceq':'float16','lcpeak':'float16'},\n",
    "                       parse_dates=['result_timestamp'],\n",
    "                       date_parser=custom_date_parser) \n",
    "                       for file in csv_files)\n",
    "\n",
    "full_xior_df = pd.concat(df_list, ignore_index=True)\n",
    "full_xior_df.shape\n"
   ]
  },
  {
   "cell_type": "code",
   "execution_count": 53,
   "metadata": {},
   "outputs": [],
   "source": [
    "full_xior_df.sort_values(by=['result_timestamp'],inplace=True)\n",
    "full_xior_df = full_xior_df.resample('15min',closed = 'right', on='result_timestamp').mean()\n",
    "full_xior_df.reset_index(inplace=True)\n",
    "full_xior_df.to_parquet('Dataset/full_xior_df.parquet')"
   ]
  },
  {
   "cell_type": "code",
   "execution_count": 54,
   "metadata": {},
   "outputs": [],
   "source": [
    "try_df = pd.read_parquet('Dataset/full_xior_df.parquet')"
   ]
  },
  {
   "cell_type": "code",
   "execution_count": 76,
   "metadata": {},
   "outputs": [
    {
     "data": {
      "text/html": [
       "<div>\n",
       "<style scoped>\n",
       "    .dataframe tbody tr th:only-of-type {\n",
       "        vertical-align: middle;\n",
       "    }\n",
       "\n",
       "    .dataframe tbody tr th {\n",
       "        vertical-align: top;\n",
       "    }\n",
       "\n",
       "    .dataframe thead th {\n",
       "        text-align: right;\n",
       "    }\n",
       "</style>\n",
       "<table border=\"1\" class=\"dataframe\">\n",
       "  <thead>\n",
       "    <tr style=\"text-align: right;\">\n",
       "      <th></th>\n",
       "      <th>result_timestamp</th>\n",
       "      <th>lamax</th>\n",
       "      <th>laeq</th>\n",
       "      <th>lceq</th>\n",
       "      <th>lcpeak</th>\n",
       "    </tr>\n",
       "  </thead>\n",
       "  <tbody>\n",
       "    <tr>\n",
       "      <th>0</th>\n",
       "      <td>2022-02-28 14:00:00</td>\n",
       "      <td>51.50000</td>\n",
       "      <td>49.93750</td>\n",
       "      <td>58.96875</td>\n",
       "      <td>70.5625</td>\n",
       "    </tr>\n",
       "    <tr>\n",
       "      <th>1</th>\n",
       "      <td>2022-02-28 14:15:00</td>\n",
       "      <td>55.12500</td>\n",
       "      <td>52.96875</td>\n",
       "      <td>66.06250</td>\n",
       "      <td>77.1250</td>\n",
       "    </tr>\n",
       "    <tr>\n",
       "      <th>2</th>\n",
       "      <td>2022-02-28 14:30:00</td>\n",
       "      <td>56.00000</td>\n",
       "      <td>52.81250</td>\n",
       "      <td>60.71875</td>\n",
       "      <td>72.8125</td>\n",
       "    </tr>\n",
       "    <tr>\n",
       "      <th>3</th>\n",
       "      <td>2022-02-28 14:45:00</td>\n",
       "      <td>55.87500</td>\n",
       "      <td>54.81250</td>\n",
       "      <td>65.18750</td>\n",
       "      <td>75.9375</td>\n",
       "    </tr>\n",
       "    <tr>\n",
       "      <th>4</th>\n",
       "      <td>2022-02-28 15:00:00</td>\n",
       "      <td>NaN</td>\n",
       "      <td>NaN</td>\n",
       "      <td>NaN</td>\n",
       "      <td>NaN</td>\n",
       "    </tr>\n",
       "    <tr>\n",
       "      <th>5</th>\n",
       "      <td>2022-02-28 15:15:00</td>\n",
       "      <td>56.18750</td>\n",
       "      <td>53.25000</td>\n",
       "      <td>65.62500</td>\n",
       "      <td>78.0625</td>\n",
       "    </tr>\n",
       "    <tr>\n",
       "      <th>6</th>\n",
       "      <td>2022-02-28 15:30:00</td>\n",
       "      <td>46.43750</td>\n",
       "      <td>45.06250</td>\n",
       "      <td>59.18750</td>\n",
       "      <td>69.9375</td>\n",
       "    </tr>\n",
       "    <tr>\n",
       "      <th>7</th>\n",
       "      <td>2022-02-28 15:45:00</td>\n",
       "      <td>55.59375</td>\n",
       "      <td>53.06250</td>\n",
       "      <td>61.18750</td>\n",
       "      <td>73.9375</td>\n",
       "    </tr>\n",
       "    <tr>\n",
       "      <th>8</th>\n",
       "      <td>2022-02-28 16:00:00</td>\n",
       "      <td>53.84375</td>\n",
       "      <td>51.25000</td>\n",
       "      <td>59.00000</td>\n",
       "      <td>74.0625</td>\n",
       "    </tr>\n",
       "    <tr>\n",
       "      <th>9</th>\n",
       "      <td>2022-02-28 16:15:00</td>\n",
       "      <td>57.06250</td>\n",
       "      <td>54.96875</td>\n",
       "      <td>61.75000</td>\n",
       "      <td>74.5000</td>\n",
       "    </tr>\n",
       "    <tr>\n",
       "      <th>10</th>\n",
       "      <td>2022-02-28 16:30:00</td>\n",
       "      <td>53.21875</td>\n",
       "      <td>52.31250</td>\n",
       "      <td>64.56250</td>\n",
       "      <td>75.5625</td>\n",
       "    </tr>\n",
       "    <tr>\n",
       "      <th>11</th>\n",
       "      <td>2022-02-28 16:45:00</td>\n",
       "      <td>59.06250</td>\n",
       "      <td>56.50000</td>\n",
       "      <td>66.18750</td>\n",
       "      <td>77.3125</td>\n",
       "    </tr>\n",
       "    <tr>\n",
       "      <th>12</th>\n",
       "      <td>2022-02-28 17:00:00</td>\n",
       "      <td>57.00000</td>\n",
       "      <td>55.18750</td>\n",
       "      <td>64.00000</td>\n",
       "      <td>75.5000</td>\n",
       "    </tr>\n",
       "    <tr>\n",
       "      <th>13</th>\n",
       "      <td>2022-02-28 17:15:00</td>\n",
       "      <td>56.18750</td>\n",
       "      <td>52.46875</td>\n",
       "      <td>59.43750</td>\n",
       "      <td>73.6250</td>\n",
       "    </tr>\n",
       "    <tr>\n",
       "      <th>14</th>\n",
       "      <td>2022-02-28 17:30:00</td>\n",
       "      <td>56.68750</td>\n",
       "      <td>54.06250</td>\n",
       "      <td>61.09375</td>\n",
       "      <td>74.1875</td>\n",
       "    </tr>\n",
       "    <tr>\n",
       "      <th>15</th>\n",
       "      <td>2022-02-28 17:45:00</td>\n",
       "      <td>58.43750</td>\n",
       "      <td>55.96875</td>\n",
       "      <td>64.87500</td>\n",
       "      <td>76.6250</td>\n",
       "    </tr>\n",
       "    <tr>\n",
       "      <th>16</th>\n",
       "      <td>2022-02-28 18:00:00</td>\n",
       "      <td>50.96875</td>\n",
       "      <td>48.18750</td>\n",
       "      <td>54.06250</td>\n",
       "      <td>67.2500</td>\n",
       "    </tr>\n",
       "    <tr>\n",
       "      <th>17</th>\n",
       "      <td>2022-02-28 18:15:00</td>\n",
       "      <td>NaN</td>\n",
       "      <td>NaN</td>\n",
       "      <td>NaN</td>\n",
       "      <td>NaN</td>\n",
       "    </tr>\n",
       "    <tr>\n",
       "      <th>18</th>\n",
       "      <td>2022-02-28 18:30:00</td>\n",
       "      <td>55.96875</td>\n",
       "      <td>52.06250</td>\n",
       "      <td>62.43750</td>\n",
       "      <td>75.4375</td>\n",
       "    </tr>\n",
       "    <tr>\n",
       "      <th>19</th>\n",
       "      <td>2022-02-28 18:45:00</td>\n",
       "      <td>50.40625</td>\n",
       "      <td>48.75000</td>\n",
       "      <td>56.09375</td>\n",
       "      <td>69.1875</td>\n",
       "    </tr>\n",
       "  </tbody>\n",
       "</table>\n",
       "</div>"
      ],
      "text/plain": [
       "      result_timestamp     lamax      laeq      lceq   lcpeak\n",
       "0  2022-02-28 14:00:00  51.50000  49.93750  58.96875  70.5625\n",
       "1  2022-02-28 14:15:00  55.12500  52.96875  66.06250  77.1250\n",
       "2  2022-02-28 14:30:00  56.00000  52.81250  60.71875  72.8125\n",
       "3  2022-02-28 14:45:00  55.87500  54.81250  65.18750  75.9375\n",
       "4  2022-02-28 15:00:00       NaN       NaN       NaN      NaN\n",
       "5  2022-02-28 15:15:00  56.18750  53.25000  65.62500  78.0625\n",
       "6  2022-02-28 15:30:00  46.43750  45.06250  59.18750  69.9375\n",
       "7  2022-02-28 15:45:00  55.59375  53.06250  61.18750  73.9375\n",
       "8  2022-02-28 16:00:00  53.84375  51.25000  59.00000  74.0625\n",
       "9  2022-02-28 16:15:00  57.06250  54.96875  61.75000  74.5000\n",
       "10 2022-02-28 16:30:00  53.21875  52.31250  64.56250  75.5625\n",
       "11 2022-02-28 16:45:00  59.06250  56.50000  66.18750  77.3125\n",
       "12 2022-02-28 17:00:00  57.00000  55.18750  64.00000  75.5000\n",
       "13 2022-02-28 17:15:00  56.18750  52.46875  59.43750  73.6250\n",
       "14 2022-02-28 17:30:00  56.68750  54.06250  61.09375  74.1875\n",
       "15 2022-02-28 17:45:00  58.43750  55.96875  64.87500  76.6250\n",
       "16 2022-02-28 18:00:00  50.96875  48.18750  54.06250  67.2500\n",
       "17 2022-02-28 18:15:00       NaN       NaN       NaN      NaN\n",
       "18 2022-02-28 18:30:00  55.96875  52.06250  62.43750  75.4375\n",
       "19 2022-02-28 18:45:00  50.40625  48.75000  56.09375  69.1875"
      ]
     },
     "execution_count": 76,
     "metadata": {},
     "output_type": "execute_result"
    }
   ],
   "source": [
    "try_df.head(20)"
   ]
  },
  {
   "attachments": {},
   "cell_type": "markdown",
   "metadata": {},
   "source": [
    "# read Taste location"
   ]
  },
  {
   "cell_type": "code",
   "execution_count": 60,
   "metadata": {},
   "outputs": [],
   "source": [
    "custom_date_parser = lambda x: datetime.strptime(x, '%d/%m/%Y %H:%M:%S.%f')\n",
    "path = '/Users/siucheung/School/Modern Data Analytics/project/Full Data Set/'\n",
    "\n",
    "csv_files = glob.glob(path + \"/*/*taste.csv\") \n",
    "df_list = (pd.read_csv(file, sep=';',\n",
    "                       usecols=['result_timestamp','lamax','laeq','lceq','lcpeak'],\n",
    "                       dtype={'lamax':'float16','laeq':'float16','lceq':'float16','lcpeak':'float16'},\n",
    "                       parse_dates=['result_timestamp'],\n",
    "                       date_parser=custom_date_parser) \n",
    "                       for file in csv_files)\n",
    "\n",
    "full_taste_df = pd.concat(df_list, ignore_index=True)"
   ]
  },
  {
   "cell_type": "code",
   "execution_count": 67,
   "metadata": {},
   "outputs": [],
   "source": [
    "full_taste_df.sort_values(by=['result_timestamp'],inplace=True)\n",
    "full_taste_df = full_taste_df.resample('15min',closed = 'right', on='result_timestamp').mean()\n",
    "full_taste_df.reset_index(inplace=True)\n",
    "full_taste_df.to_parquet('Dataset/full_taste_df.parquet')"
   ]
  },
  {
   "attachments": {},
   "cell_type": "markdown",
   "metadata": {},
   "source": [
    "# read Kapel location"
   ]
  },
  {
   "cell_type": "code",
   "execution_count": 61,
   "metadata": {},
   "outputs": [],
   "source": [
    "custom_date_parser = lambda x: datetime.strptime(x, '%d/%m/%Y %H:%M:%S.%f')\n",
    "path = '/Users/siucheung/School/Modern Data Analytics/project/Full Data Set/'\n",
    "\n",
    "csv_files = glob.glob(path + \"/*/*calvariekapel-ku-leuven.csv\") \n",
    "df_list = (pd.read_csv(file, sep=';',\n",
    "                       usecols=['result_timestamp','lamax','laeq','lceq','lcpeak'],\n",
    "                       dtype={'lamax':'float16','laeq':'float16','lceq':'float16','lcpeak':'float16'},\n",
    "                       parse_dates=['result_timestamp'],\n",
    "                       date_parser=custom_date_parser) \n",
    "                       for file in csv_files)\n",
    "\n",
    "full_kapel_df = pd.concat(df_list, ignore_index=True)"
   ]
  },
  {
   "cell_type": "code",
   "execution_count": 68,
   "metadata": {},
   "outputs": [],
   "source": [
    "full_kapel_df.sort_values(by=['result_timestamp'],inplace=True)\n",
    "full_kapel_df = full_kapel_df.resample('15min',closed = 'right', on='result_timestamp').mean()\n",
    "full_kapel_df.reset_index(inplace=True)\n",
    "full_kapel_df.to_parquet('Dataset/full_kapel_df.parquet')"
   ]
  },
  {
   "attachments": {},
   "cell_type": "markdown",
   "metadata": {},
   "source": [
    "# read filosovia location"
   ]
  },
  {
   "cell_type": "code",
   "execution_count": 62,
   "metadata": {},
   "outputs": [],
   "source": [
    "custom_date_parser = lambda x: datetime.strptime(x, '%d/%m/%Y %H:%M:%S.%f')\n",
    "path = '/Users/siucheung/School/Modern Data Analytics/project/Full Data Set/'\n",
    "\n",
    "csv_files = glob.glob(path + \"/*/*filosovia.csv\") \n",
    "df_list = (pd.read_csv(file, sep=';',\n",
    "                       usecols=['result_timestamp','lamax','laeq','lceq','lcpeak'],\n",
    "                       dtype={'lamax':'float16','laeq':'float16','lceq':'float16','lcpeak':'float16'},\n",
    "                       parse_dates=['result_timestamp'],\n",
    "                       date_parser=custom_date_parser) \n",
    "                       for file in csv_files)\n",
    "\n",
    "full_filo_df = pd.concat(df_list, ignore_index=True)"
   ]
  },
  {
   "cell_type": "code",
   "execution_count": 69,
   "metadata": {},
   "outputs": [],
   "source": [
    "full_filo_df.sort_values(by=['result_timestamp'],inplace=True)\n",
    "full_filo_df = full_filo_df.resample('15min',closed = 'right', on='result_timestamp').mean()\n",
    "full_filo_df.reset_index(inplace=True)\n",
    "full_filo_df.to_parquet('Dataset/full_filo_df.parquet')"
   ]
  },
  {
   "attachments": {},
   "cell_type": "markdown",
   "metadata": {},
   "source": [
    "# read 81 location"
   ]
  },
  {
   "cell_type": "code",
   "execution_count": 63,
   "metadata": {},
   "outputs": [],
   "source": [
    "custom_date_parser = lambda x: datetime.strptime(x, '%d/%m/%Y %H:%M:%S.%f')\n",
    "path = '/Users/siucheung/School/Modern Data Analytics/project/Full Data Set/'\n",
    "\n",
    "csv_files = glob.glob(path + \"/*/*81.csv\") \n",
    "df_list = (pd.read_csv(file, sep=';',\n",
    "                       usecols=['result_timestamp','lamax','laeq','lceq','lcpeak'],\n",
    "                       dtype={'lamax':'float16','laeq':'float16','lceq':'float16','lcpeak':'float16'},\n",
    "                       parse_dates=['result_timestamp'],\n",
    "                       date_parser=custom_date_parser) \n",
    "                       for file in csv_files)\n",
    "\n",
    "full_81_df = pd.concat(df_list, ignore_index=True)"
   ]
  },
  {
   "cell_type": "code",
   "execution_count": 70,
   "metadata": {},
   "outputs": [],
   "source": [
    "full_81_df.sort_values(by=['result_timestamp'],inplace=True)\n",
    "full_81_df = full_81_df.resample('15min',closed = 'right', on='result_timestamp').mean()\n",
    "full_81_df.reset_index(inplace=True)\n",
    "full_81_df.to_parquet('Dataset/full_81_df.parquet')"
   ]
  },
  {
   "attachments": {},
   "cell_type": "markdown",
   "metadata": {},
   "source": [
    "# read kiosk location useless"
   ]
  },
  {
   "cell_type": "code",
   "execution_count": 64,
   "metadata": {},
   "outputs": [],
   "source": [
    "custom_date_parser = lambda x: datetime.strptime(x, '%d/%m/%Y %H:%M:%S.%f')\n",
    "path = '/Users/siucheung/School/Modern Data Analytics/project/Full Data Set/'\n",
    "\n",
    "csv_files = glob.glob(path + \"/*/*stadspark.csv\") \n",
    "df_list = (pd.read_csv(file, sep=';',\n",
    "                       usecols=['result_timestamp','lamax','laeq','lceq','lcpeak'],\n",
    "                       dtype={'lamax':'float16','laeq':'float16','lceq':'float16','lcpeak':'float16'},\n",
    "                       parse_dates=['result_timestamp'],\n",
    "                       date_parser=custom_date_parser) \n",
    "                       for file in csv_files)\n",
    "\n",
    "full_kiosk_df = pd.concat(df_list, ignore_index=True)"
   ]
  },
  {
   "cell_type": "code",
   "execution_count": 72,
   "metadata": {},
   "outputs": [],
   "source": [
    "#full_kiosk_df.sort_values(by=['result_timestamp'],inplace=True)\n",
    "#full_kiosk_df = full_kiosk_df.resample('15min',closed = 'right', on='result_timestamp').mean()\n",
    "#full_kiosk_df.reset_index(inplace=True)\n",
    "full_kiosk_df.to_parquet('Dataset/full_kiosk_df.parquet')"
   ]
  },
  {
   "attachments": {},
   "cell_type": "markdown",
   "metadata": {},
   "source": [
    "# read hof location"
   ]
  },
  {
   "cell_type": "code",
   "execution_count": 65,
   "metadata": {},
   "outputs": [],
   "source": [
    "custom_date_parser = lambda x: datetime.strptime(x, '%d/%m/%Y %H:%M:%S.%f')\n",
    "path = '/Users/siucheung/School/Modern Data Analytics/project/Full Data Set/'\n",
    "\n",
    "csv_files = glob.glob(path + \"/*/*vrijthof.csv\") \n",
    "df_list = (pd.read_csv(file, sep=';',\n",
    "                       usecols=['result_timestamp','lamax','laeq','lceq','lcpeak'],\n",
    "                       dtype={'lamax':'float16','laeq':'float16','lceq':'float16','lcpeak':'float16'},\n",
    "                       parse_dates=['result_timestamp'],\n",
    "                       date_parser=custom_date_parser) \n",
    "                       for file in csv_files)\n",
    "\n",
    "full_hof_df = pd.concat(df_list, ignore_index=True)"
   ]
  },
  {
   "cell_type": "code",
   "execution_count": 73,
   "metadata": {},
   "outputs": [],
   "source": [
    "full_hof_df.sort_values(by=['result_timestamp'],inplace=True)\n",
    "full_hof_df = full_hof_df.resample('15min',closed = 'right', on='result_timestamp').mean()\n",
    "full_hof_df.reset_index(inplace=True)\n",
    "full_hof_df.to_parquet('Dataset/full_hof_df.parquet')"
   ]
  },
  {
   "attachments": {},
   "cell_type": "markdown",
   "metadata": {},
   "source": [
    "# read his his-hears location"
   ]
  },
  {
   "cell_type": "code",
   "execution_count": 66,
   "metadata": {},
   "outputs": [],
   "source": [
    "custom_date_parser = lambda x: datetime.strptime(x, '%d/%m/%Y %H:%M:%S.%f')\n",
    "path = '/Users/siucheung/School/Modern Data Analytics/project/Full Data Set/'\n",
    "\n",
    "csv_files = glob.glob(path + \"/*/*hears.csv\") \n",
    "df_list = (pd.read_csv(file, sep=';',\n",
    "                       usecols=['result_timestamp','lamax','laeq','lceq','lcpeak'],\n",
    "                       dtype={'lamax':'float16','laeq':'float16','lceq':'float16','lcpeak':'float16'},\n",
    "                       parse_dates=['result_timestamp'],\n",
    "                       date_parser=custom_date_parser) \n",
    "                       for file in csv_files)\n",
    "\n",
    "full_hears_df = pd.concat(df_list, ignore_index=True)"
   ]
  },
  {
   "cell_type": "code",
   "execution_count": 74,
   "metadata": {},
   "outputs": [],
   "source": [
    "full_hears_df.sort_values(by=['result_timestamp'],inplace=True)\n",
    "full_hears_df = full_hears_df.resample('15min',closed = 'right', on='result_timestamp').mean()\n",
    "full_hears_df.reset_index(inplace=True)\n",
    "full_hears_df.to_parquet('Dataset/full_hears_df.parquet')"
   ]
  },
  {
   "cell_type": "code",
   "execution_count": null,
   "metadata": {},
   "outputs": [],
   "source": []
  }
 ],
 "metadata": {
  "kernelspec": {
   "display_name": "Python 3",
   "language": "python",
   "name": "python3"
  },
  "language_info": {
   "codemirror_mode": {
    "name": "ipython",
    "version": 3
   },
   "file_extension": ".py",
   "mimetype": "text/x-python",
   "name": "python",
   "nbconvert_exporter": "python",
   "pygments_lexer": "ipython3",
   "version": "3.9.13"
  },
  "orig_nbformat": 4
 },
 "nbformat": 4,
 "nbformat_minor": 2
}
